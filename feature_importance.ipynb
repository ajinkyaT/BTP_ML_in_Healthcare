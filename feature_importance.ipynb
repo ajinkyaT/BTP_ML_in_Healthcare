{
 "cells": [
  {
   "cell_type": "code",
   "execution_count": 1,
   "metadata": {
    "colab": {},
    "colab_type": "code",
    "id": "ma_YJGYDKD3p"
   },
   "outputs": [
    {
     "name": "stdout",
     "output_type": "stream",
     "text": [
      "Requirement already satisfied: skater in c:\\users\\cannor147\\appdata\\local\\programs\\python\\python39\\lib\\site-packages (1.0.4)\n",
      "Collecting skater\n",
      "  Using cached skater-1.1.2.tar.gz (96 kB)\n",
      "  Preparing metadata (setup.py): started\n",
      "  Preparing metadata (setup.py): finished with status 'done'\n",
      "Requirement already satisfied: scikit-learn>=0.18 in c:\\users\\cannor147\\appdata\\local\\programs\\python\\python39\\lib\\site-packages (from skater) (1.0.1)\n",
      "Collecting scikit-image==0.14\n"
     ]
    },
    {
     "name": "stderr",
     "output_type": "stream",
     "text": [
      "  ERROR: Command errored out with exit status 1:\n",
      "   command: 'c:\\users\\cannor147\\appdata\\local\\programs\\python\\python39\\python.exe' -c 'import io, os, sys, setuptools, tokenize; sys.argv[0] = '\"'\"'C:\\\\Users\\\\cannor147\\\\AppData\\\\Local\\\\Temp\\\\pip-install-7xpjcngt\\\\scikit-image_d6235958f2224fbfafbd35dbe8d4e106\\\\setup.py'\"'\"'; __file__='\"'\"'C:\\\\Users\\\\cannor147\\\\AppData\\\\Local\\\\Temp\\\\pip-install-7xpjcngt\\\\scikit-image_d6235958f2224fbfafbd35dbe8d4e106\\\\setup.py'\"'\"';f = getattr(tokenize, '\"'\"'open'\"'\"', open)(__file__) if os.path.exists(__file__) else io.StringIO('\"'\"'from setuptools import setup; setup()'\"'\"');code = f.read().replace('\"'\"'\\r\\n'\"'\"', '\"'\"'\\n'\"'\"');f.close();exec(compile(code, __file__, '\"'\"'exec'\"'\"'))' egg_info --egg-base 'C:\\Users\\cannor147\\AppData\\Local\\Temp\\pip-pip-egg-info-yhuk8pqv'\n",
      "       cwd: C:\\Users\\cannor147\\AppData\\Local\\Temp\\pip-install-7xpjcngt\\scikit-image_d6235958f2224fbfafbd35dbe8d4e106\\\n",
      "  Complete output (46 lines):\n",
      "  Partial import of skimage during the build process.\n",
      "  Traceback (most recent call last):\n",
      "    File \"C:\\Users\\cannor147\\AppData\\Local\\Temp\\pip-install-7xpjcngt\\scikit-image_d6235958f2224fbfafbd35dbe8d4e106\\skimage\\_build.py\", line 30, in cython\n",
      "      from Cython import __version__\n",
      "  ModuleNotFoundError: No module named 'Cython'\n",
      "  \n",
      "  During handling of the above exception, another exception occurred:\n",
      "  \n",
      "  Traceback (most recent call last):\n",
      "    File \"<string>\", line 1, in <module>\n",
      "    File \"C:\\Users\\cannor147\\AppData\\Local\\Temp\\pip-install-7xpjcngt\\scikit-image_d6235958f2224fbfafbd35dbe8d4e106\\setup.py\", line 111, in <module>\n",
      "      setup(\n"
     ]
    },
    {
     "name": "stdout",
     "output_type": "stream",
     "text": [
      "  Using cached scikit-image-0.14.0.tar.gz (27.0 MB)\n",
      "  Preparing metadata (setup.py): started\n",
      "  Preparing metadata (setup.py): finished with status 'error'\n",
      "Collecting skater\n",
      "  Using cached skater-1.1.0.tar.gz (52 kB)\n",
      "  Preparing metadata (setup.py): started\n",
      "  Preparing metadata (setup.py): finished with status 'done'\n",
      "Requirement already satisfied: pandas>=0.19 in c:\\users\\cannor147\\appdata\\local\\programs\\python\\python39\\lib\\site-packages (from skater) (1.3.3)\n",
      "Requirement already satisfied: ds-lime>=0.1.1.21 in c:\\users\\cannor147\\appdata\\local\\programs\\python\\python39\\lib\\site-packages (from skater) (0.1.1.27)\n",
      "Requirement already satisfied: requests in c:\\users\\cannor147\\appdata\\local\\programs\\python\\python39\\lib\\site-packages (from skater) (2.26.0)\n",
      "Requirement already satisfied: multiprocess in c:\\users\\cannor147\\appdata\\local\\programs\\python\\python39\\lib\\site-packages (from skater) (0.70.12.2)\n",
      "Collecting joblib==0.11\n",
      "  Using cached joblib-0.11-py2.py3-none-any.whl (176 kB)\n",
      "Requirement already satisfied: dill>=0.2.6 in c:\\users\\cannor147\\appdata\\local\\programs\\python\\python39\\lib\\site-packages (from skater) (0.3.4)\n",
      "Collecting Jinja2==2.10\n",
      "  Using cached Jinja2-2.10-py2.py3-none-any.whl (126 kB)\n",
      "Collecting rpy2==2.9.1\n",
      "  Using cached rpy2-2.9.1.tar.gz (192 kB)\n",
      "  Preparing metadata (setup.py): started\n",
      "  Preparing metadata (setup.py): finished with status 'error'\n",
      "Requirement already satisfied: numpy in c:\\users\\cannor147\\appdata\\local\\programs\\python\\python39\\lib\\site-packages (from ds-lime>=0.1.1.21->skater) (1.19.5)\n",
      "Requirement already satisfied: scipy in c:\\users\\cannor147\\appdata\\local\\programs\\python\\python39\\lib\\site-packages (from ds-lime>=0.1.1.21->skater) (1.7.1)\n",
      "Requirement already satisfied: python-dateutil>=2.7.3 in c:\\users\\cannor147\\appdata\\local\\programs\\python\\python39\\lib\\site-packages (from pandas>=0.19->skater) (2.8.2)\n",
      "Requirement already satisfied: pytz>=2017.3 in c:\\users\\cannor147\\appdata\\local\\programs\\python\\python39\\lib\\site-packages (from pandas>=0.19->skater) (2021.3)\n",
      "Requirement already satisfied: threadpoolctl>=2.0.0 in c:\\users\\cannor147\\appdata\\local\\programs\\python\\python39\\lib\\site-packages (from scikit-learn>=0.18->skater) (3.0.0)\n",
      "Requirement already satisfied: joblib>=0.11 in c:\\users\\cannor147\\appdata\\local\\programs\\python\\python39\\lib\\site-packages (from scikit-learn>=0.18->skater) (1.0.1)\n",
      "Requirement already satisfied: certifi>=2017.4.17 in c:\\users\\cannor147\\appdata\\local\\programs\\python\\python39\\lib\\site-packages (from requests->skater) (2021.10.8)\n",
      "Requirement already satisfied: charset-normalizer~=2.0.0 in c:\\users\\cannor147\\appdata\\local\\programs\\python\\python39\\lib\\site-packages (from requests->skater) (2.0.7)\n",
      "Requirement already satisfied: urllib3<1.27,>=1.21.1 in c:\\users\\cannor147\\appdata\\local\\programs\\python\\python39\\lib\\site-packages (from requests->skater) (1.26.7)\n",
      "Requirement already satisfied: idna<4,>=2.5 in c:\\users\\cannor147\\appdata\\local\\programs\\python\\python39\\lib\\site-packages (from requests->skater) (3.3)\n",
      "Requirement already satisfied: six>=1.5 in c:\\users\\cannor147\\appdata\\local\\programs\\python\\python39\\lib\\site-packages (from python-dateutil>=2.7.3->pandas>=0.19->skater) (1.15.0)\n"
     ]
    },
    {
     "name": "stderr",
     "output_type": "stream",
     "text": [
      "    File \"c:\\users\\cannor147\\appdata\\local\\programs\\python\\python39\\lib\\site-packages\\numpy\\distutils\\core.py\", line 135, in setup\n",
      "      config = configuration()\n",
      "    File \"C:\\Users\\cannor147\\AppData\\Local\\Temp\\pip-install-7xpjcngt\\scikit-image_d6235958f2224fbfafbd35dbe8d4e106\\setup.py\", line 70, in configuration\n",
      "      config.add_subpackage('skimage')\n",
      "    File \"c:\\users\\cannor147\\appdata\\local\\programs\\python\\python39\\lib\\site-packages\\numpy\\distutils\\misc_util.py\", line 1018, in add_subpackage\n",
      "      config_list = self.get_subpackage(subpackage_name, subpackage_path,\n",
      "    File \"c:\\users\\cannor147\\appdata\\local\\programs\\python\\python39\\lib\\site-packages\\numpy\\distutils\\misc_util.py\", line 984, in get_subpackage\n",
      "      config = self._get_configuration_from_setup_py(\n",
      "    File \"c:\\users\\cannor147\\appdata\\local\\programs\\python\\python39\\lib\\site-packages\\numpy\\distutils\\misc_util.py\", line 926, in _get_configuration_from_setup_py\n",
      "      config = setup_module.configuration(*args)\n",
      "    File \"skimage\\setup.py\", line 14, in configuration\n",
      "      config.add_subpackage('feature')\n",
      "    File \"c:\\users\\cannor147\\appdata\\local\\programs\\python\\python39\\lib\\site-packages\\numpy\\distutils\\misc_util.py\", line 1018, in add_subpackage\n",
      "      config_list = self.get_subpackage(subpackage_name, subpackage_path,\n",
      "    File \"c:\\users\\cannor147\\appdata\\local\\programs\\python\\python39\\lib\\site-packages\\numpy\\distutils\\misc_util.py\", line 984, in get_subpackage\n",
      "      config = self._get_configuration_from_setup_py(\n",
      "    File \"c:\\users\\cannor147\\appdata\\local\\programs\\python\\python39\\lib\\site-packages\\numpy\\distutils\\misc_util.py\", line 926, in _get_configuration_from_setup_py\n",
      "      config = setup_module.configuration(*args)\n",
      "    File \"skimage\\feature\\setup.py\", line 22, in configuration\n",
      "      cython(['_haar.pyx'], working_path=base_path)\n",
      "    File \"C:\\Users\\cannor147\\AppData\\Local\\Temp\\pip-install-7xpjcngt\\scikit-image_d6235958f2224fbfafbd35dbe8d4e106\\skimage\\_build.py\", line 41, in cython\n",
      "      raise RuntimeError('Cython >= %s is required to build scikit-image from git checkout' \\\n",
      "  RuntimeError: Cython >= 0.23 is required to build scikit-image from git checkout\n",
      "  Cython >= 0.23 not found; falling back to pre-built geometry.c\n",
      "  Cython >= 0.23 not found; falling back to pre-built transform.c\n",
      "  Cython >= 0.23 not found; falling back to pre-built interpolation.c\n",
      "  Cython >= 0.23 not found; falling back to pre-built _draw.c\n",
      "  Cython >= 0.23 not found; falling back to pre-built corner_cy.c\n",
      "  Cython >= 0.23 not found; falling back to pre-built censure_cy.c\n",
      "  Cython >= 0.23 not found; falling back to pre-built orb_cy.c\n",
      "  Cython >= 0.23 not found; falling back to pre-built brief_cy.c\n",
      "  Cython >= 0.23 not found; falling back to pre-built _texture.c\n",
      "  Cython >= 0.23 not found; falling back to pre-built _hessian_det_appx.c\n",
      "  Cython >= 0.23 not found; falling back to pre-built _hoghistogram.c\n",
      "  ----------------------------------------\n",
      "WARNING: Discarding https://files.pythonhosted.org/packages/fc/20/d3e736493b16e9455ce8579722d644b313814c599d5824d34e448845f746/scikit-image-0.14.0.tar.gz#sha256=325f75eb80fbc5371136e37f323445309ca9f65b6c6f718d0d0e2189e5de1224 (from https://pypi.org/simple/scikit-image/). Command errored out with exit status 1: python setup.py egg_info Check the logs for full command output.\n",
      "  ERROR: Command errored out with exit status 1:\n",
      "   command: 'c:\\users\\cannor147\\appdata\\local\\programs\\python\\python39\\python.exe' -c 'import io, os, sys, setuptools, tokenize; sys.argv[0] = '\"'\"'C:\\\\Users\\\\cannor147\\\\AppData\\\\Local\\\\Temp\\\\pip-install-7xpjcngt\\\\rpy2_9f810ccfb59a47d099072fb99a16d5f3\\\\setup.py'\"'\"'; __file__='\"'\"'C:\\\\Users\\\\cannor147\\\\AppData\\\\Local\\\\Temp\\\\pip-install-7xpjcngt\\\\rpy2_9f810ccfb59a47d099072fb99a16d5f3\\\\setup.py'\"'\"';f = getattr(tokenize, '\"'\"'open'\"'\"', open)(__file__) if os.path.exists(__file__) else io.StringIO('\"'\"'from setuptools import setup; setup()'\"'\"');code = f.read().replace('\"'\"'\\r\\n'\"'\"', '\"'\"'\\n'\"'\"');f.close();exec(compile(code, __file__, '\"'\"'exec'\"'\"'))' egg_info --egg-base 'C:\\Users\\cannor147\\AppData\\Local\\Temp\\pip-pip-egg-info-kwnh11gh'\n",
      "       cwd: C:\\Users\\cannor147\\AppData\\Local\\Temp\\pip-install-7xpjcngt\\rpy2_9f810ccfb59a47d099072fb99a16d5f3\\\n",
      "  Complete output (1 lines):\n",
      "  Error: Tried to guess R's HOME but no command 'R' in the PATH.\n",
      "  ----------------------------------------\n",
      "WARNING: Discarding https://files.pythonhosted.org/packages/05/b8/d7a19db470518e1ee300e6b8436429221b303ca2b94be982b454d0d72c22/rpy2-2.9.1.tar.gz#sha256=cca9ede06c96b1f3b326c1b98e8620b5d17a0679a852d22f77e418d2c013e97a (from https://pypi.org/simple/rpy2/). Command errored out with exit status 1: python setup.py egg_info Check the logs for full command output.\n"
     ]
    }
   ],
   "source": [
    "!pip install -U skater"
   ]
  },
  {
   "cell_type": "code",
   "execution_count": 2,
   "metadata": {
    "colab": {},
    "colab_type": "code",
    "id": "aMhfc1Y1KZxp"
   },
   "outputs": [],
   "source": [
    "from __future__ import division\n",
    "import numpy as np\n",
    "import pandas as pd\n",
    "import matplotlib.pyplot as plt\n",
    "plt.rcParams[\"figure.figsize\"] = (20,3)\n",
    "from sklearn.ensemble import RandomForestClassifier\n",
    "from sklearn.metrics import roc_curve, roc_auc_score\n",
    "import seaborn as sns\n",
    "%matplotlib inline"
   ]
  },
  {
   "cell_type": "code",
   "execution_count": 3,
   "metadata": {
    "colab": {},
    "colab_type": "code",
    "id": "-f5kSO2xLBYw"
   },
   "outputs": [
    {
     "name": "stderr",
     "output_type": "stream",
     "text": [
      "'wget' is not recognized as an internal or external command,\n",
      "operable program or batch file.\n"
     ]
    }
   ],
   "source": [
    "!wget https://archive.ics.uci.edu/ml/machine-learning-databases/00383/risk_factors_cervical_cancer.csv"
   ]
  },
  {
   "cell_type": "code",
   "execution_count": 4,
   "metadata": {
    "colab": {
     "base_uri": "https://localhost:8080/",
     "height": 338
    },
    "colab_type": "code",
    "id": "JMiLKVfGLHym",
    "outputId": "7929adf9-8b28-46ef-8fb3-937a8f9bb99a"
   },
   "outputs": [
    {
     "name": "stdout",
     "output_type": "stream",
     "text": [
      "Shape:  (858, 36)\n"
     ]
    },
    {
     "data": {
      "text/html": [
       "<div>\n",
       "<style scoped>\n",
       "    .dataframe tbody tr th:only-of-type {\n",
       "        vertical-align: middle;\n",
       "    }\n",
       "\n",
       "    .dataframe tbody tr th {\n",
       "        vertical-align: top;\n",
       "    }\n",
       "\n",
       "    .dataframe thead th {\n",
       "        text-align: right;\n",
       "    }\n",
       "</style>\n",
       "<table border=\"1\" class=\"dataframe\">\n",
       "  <thead>\n",
       "    <tr style=\"text-align: right;\">\n",
       "      <th></th>\n",
       "      <th>Age</th>\n",
       "      <th>Number of sexual partners</th>\n",
       "      <th>First sexual intercourse</th>\n",
       "      <th>Num of pregnancies</th>\n",
       "      <th>Smokes</th>\n",
       "      <th>Smokes (years)</th>\n",
       "      <th>Smokes (packs/year)</th>\n",
       "      <th>Hormonal Contraceptives</th>\n",
       "      <th>Hormonal Contraceptives (years)</th>\n",
       "      <th>IUD</th>\n",
       "      <th>...</th>\n",
       "      <th>STDs: Time since first diagnosis</th>\n",
       "      <th>STDs: Time since last diagnosis</th>\n",
       "      <th>Dx:Cancer</th>\n",
       "      <th>Dx:CIN</th>\n",
       "      <th>Dx:HPV</th>\n",
       "      <th>Dx</th>\n",
       "      <th>Hinselmann</th>\n",
       "      <th>Schiller</th>\n",
       "      <th>Citology</th>\n",
       "      <th>Biopsy</th>\n",
       "    </tr>\n",
       "  </thead>\n",
       "  <tbody>\n",
       "    <tr>\n",
       "      <th>0</th>\n",
       "      <td>18</td>\n",
       "      <td>4.0</td>\n",
       "      <td>15.0</td>\n",
       "      <td>1.0</td>\n",
       "      <td>0.0</td>\n",
       "      <td>0.0</td>\n",
       "      <td>0.0</td>\n",
       "      <td>0.0</td>\n",
       "      <td>0.0</td>\n",
       "      <td>0.0</td>\n",
       "      <td>...</td>\n",
       "      <td>NaN</td>\n",
       "      <td>NaN</td>\n",
       "      <td>0</td>\n",
       "      <td>0</td>\n",
       "      <td>0</td>\n",
       "      <td>0</td>\n",
       "      <td>0</td>\n",
       "      <td>0</td>\n",
       "      <td>0</td>\n",
       "      <td>0</td>\n",
       "    </tr>\n",
       "    <tr>\n",
       "      <th>1</th>\n",
       "      <td>15</td>\n",
       "      <td>1.0</td>\n",
       "      <td>14.0</td>\n",
       "      <td>1.0</td>\n",
       "      <td>0.0</td>\n",
       "      <td>0.0</td>\n",
       "      <td>0.0</td>\n",
       "      <td>0.0</td>\n",
       "      <td>0.0</td>\n",
       "      <td>0.0</td>\n",
       "      <td>...</td>\n",
       "      <td>NaN</td>\n",
       "      <td>NaN</td>\n",
       "      <td>0</td>\n",
       "      <td>0</td>\n",
       "      <td>0</td>\n",
       "      <td>0</td>\n",
       "      <td>0</td>\n",
       "      <td>0</td>\n",
       "      <td>0</td>\n",
       "      <td>0</td>\n",
       "    </tr>\n",
       "    <tr>\n",
       "      <th>2</th>\n",
       "      <td>34</td>\n",
       "      <td>1.0</td>\n",
       "      <td>NaN</td>\n",
       "      <td>1.0</td>\n",
       "      <td>0.0</td>\n",
       "      <td>0.0</td>\n",
       "      <td>0.0</td>\n",
       "      <td>0.0</td>\n",
       "      <td>0.0</td>\n",
       "      <td>0.0</td>\n",
       "      <td>...</td>\n",
       "      <td>NaN</td>\n",
       "      <td>NaN</td>\n",
       "      <td>0</td>\n",
       "      <td>0</td>\n",
       "      <td>0</td>\n",
       "      <td>0</td>\n",
       "      <td>0</td>\n",
       "      <td>0</td>\n",
       "      <td>0</td>\n",
       "      <td>0</td>\n",
       "    </tr>\n",
       "    <tr>\n",
       "      <th>3</th>\n",
       "      <td>52</td>\n",
       "      <td>5.0</td>\n",
       "      <td>16.0</td>\n",
       "      <td>4.0</td>\n",
       "      <td>1.0</td>\n",
       "      <td>37.0</td>\n",
       "      <td>37.0</td>\n",
       "      <td>1.0</td>\n",
       "      <td>3.0</td>\n",
       "      <td>0.0</td>\n",
       "      <td>...</td>\n",
       "      <td>NaN</td>\n",
       "      <td>NaN</td>\n",
       "      <td>1</td>\n",
       "      <td>0</td>\n",
       "      <td>1</td>\n",
       "      <td>0</td>\n",
       "      <td>0</td>\n",
       "      <td>0</td>\n",
       "      <td>0</td>\n",
       "      <td>0</td>\n",
       "    </tr>\n",
       "    <tr>\n",
       "      <th>4</th>\n",
       "      <td>46</td>\n",
       "      <td>3.0</td>\n",
       "      <td>21.0</td>\n",
       "      <td>4.0</td>\n",
       "      <td>0.0</td>\n",
       "      <td>0.0</td>\n",
       "      <td>0.0</td>\n",
       "      <td>1.0</td>\n",
       "      <td>15.0</td>\n",
       "      <td>0.0</td>\n",
       "      <td>...</td>\n",
       "      <td>NaN</td>\n",
       "      <td>NaN</td>\n",
       "      <td>0</td>\n",
       "      <td>0</td>\n",
       "      <td>0</td>\n",
       "      <td>0</td>\n",
       "      <td>0</td>\n",
       "      <td>0</td>\n",
       "      <td>0</td>\n",
       "      <td>0</td>\n",
       "    </tr>\n",
       "  </tbody>\n",
       "</table>\n",
       "<p>5 rows × 36 columns</p>\n",
       "</div>"
      ],
      "text/plain": [
       "   Age  Number of sexual partners  First sexual intercourse  \\\n",
       "0   18                        4.0                      15.0   \n",
       "1   15                        1.0                      14.0   \n",
       "2   34                        1.0                       NaN   \n",
       "3   52                        5.0                      16.0   \n",
       "4   46                        3.0                      21.0   \n",
       "\n",
       "   Num of pregnancies  Smokes  Smokes (years)  Smokes (packs/year)  \\\n",
       "0                 1.0     0.0             0.0                  0.0   \n",
       "1                 1.0     0.0             0.0                  0.0   \n",
       "2                 1.0     0.0             0.0                  0.0   \n",
       "3                 4.0     1.0            37.0                 37.0   \n",
       "4                 4.0     0.0             0.0                  0.0   \n",
       "\n",
       "   Hormonal Contraceptives  Hormonal Contraceptives (years)  IUD  ...  \\\n",
       "0                      0.0                              0.0  0.0  ...   \n",
       "1                      0.0                              0.0  0.0  ...   \n",
       "2                      0.0                              0.0  0.0  ...   \n",
       "3                      1.0                              3.0  0.0  ...   \n",
       "4                      1.0                             15.0  0.0  ...   \n",
       "\n",
       "   STDs: Time since first diagnosis  STDs: Time since last diagnosis  \\\n",
       "0                               NaN                              NaN   \n",
       "1                               NaN                              NaN   \n",
       "2                               NaN                              NaN   \n",
       "3                               NaN                              NaN   \n",
       "4                               NaN                              NaN   \n",
       "\n",
       "   Dx:Cancer  Dx:CIN  Dx:HPV  Dx  Hinselmann  Schiller  Citology  Biopsy  \n",
       "0          0       0       0   0           0         0         0       0  \n",
       "1          0       0       0   0           0         0         0       0  \n",
       "2          0       0       0   0           0         0         0       0  \n",
       "3          1       0       1   0           0         0         0       0  \n",
       "4          0       0       0   0           0         0         0       0  \n",
       "\n",
       "[5 rows x 36 columns]"
      ]
     },
     "execution_count": 4,
     "metadata": {},
     "output_type": "execute_result"
    }
   ],
   "source": [
    "# read in data\n",
    "data = pd.read_csv('risk_factors_cervical_cancer.csv', na_values='?')\n",
    "print('Shape: ', data.shape)\n",
    "data.head()"
   ]
  },
  {
   "cell_type": "code",
   "execution_count": 5,
   "metadata": {
    "colab": {
     "base_uri": "https://localhost:8080/",
     "height": 304
    },
    "colab_type": "code",
    "id": "14p2lLhYLPRw",
    "outputId": "4001275f-c5e4-4c24-fec8-82d61e654130"
   },
   "outputs": [
    {
     "data": {
      "text/html": [
       "<div>\n",
       "<style scoped>\n",
       "    .dataframe tbody tr th:only-of-type {\n",
       "        vertical-align: middle;\n",
       "    }\n",
       "\n",
       "    .dataframe tbody tr th {\n",
       "        vertical-align: top;\n",
       "    }\n",
       "\n",
       "    .dataframe thead th {\n",
       "        text-align: right;\n",
       "    }\n",
       "</style>\n",
       "<table border=\"1\" class=\"dataframe\">\n",
       "  <thead>\n",
       "    <tr style=\"text-align: right;\">\n",
       "      <th></th>\n",
       "      <th>Age</th>\n",
       "      <th>Number of sexual partners</th>\n",
       "      <th>First sexual intercourse</th>\n",
       "      <th>Num of pregnancies</th>\n",
       "      <th>Smokes</th>\n",
       "      <th>Smokes (years)</th>\n",
       "      <th>Smokes (packs/year)</th>\n",
       "      <th>Hormonal Contraceptives</th>\n",
       "      <th>Hormonal Contraceptives (years)</th>\n",
       "      <th>IUD</th>\n",
       "      <th>...</th>\n",
       "      <th>STDs:HPV</th>\n",
       "      <th>STDs: Number of diagnosis</th>\n",
       "      <th>Dx:Cancer</th>\n",
       "      <th>Dx:CIN</th>\n",
       "      <th>Dx:HPV</th>\n",
       "      <th>Dx</th>\n",
       "      <th>Hinselmann</th>\n",
       "      <th>Schiller</th>\n",
       "      <th>Citology</th>\n",
       "      <th>Biopsy</th>\n",
       "    </tr>\n",
       "  </thead>\n",
       "  <tbody>\n",
       "    <tr>\n",
       "      <th>0</th>\n",
       "      <td>18</td>\n",
       "      <td>4.0</td>\n",
       "      <td>15.0</td>\n",
       "      <td>1.0</td>\n",
       "      <td>0.0</td>\n",
       "      <td>0.0</td>\n",
       "      <td>0.0</td>\n",
       "      <td>0.0</td>\n",
       "      <td>0.0</td>\n",
       "      <td>0.0</td>\n",
       "      <td>...</td>\n",
       "      <td>0.0</td>\n",
       "      <td>0</td>\n",
       "      <td>0</td>\n",
       "      <td>0</td>\n",
       "      <td>0</td>\n",
       "      <td>0</td>\n",
       "      <td>0</td>\n",
       "      <td>0</td>\n",
       "      <td>0</td>\n",
       "      <td>0</td>\n",
       "    </tr>\n",
       "    <tr>\n",
       "      <th>1</th>\n",
       "      <td>15</td>\n",
       "      <td>1.0</td>\n",
       "      <td>14.0</td>\n",
       "      <td>1.0</td>\n",
       "      <td>0.0</td>\n",
       "      <td>0.0</td>\n",
       "      <td>0.0</td>\n",
       "      <td>0.0</td>\n",
       "      <td>0.0</td>\n",
       "      <td>0.0</td>\n",
       "      <td>...</td>\n",
       "      <td>0.0</td>\n",
       "      <td>0</td>\n",
       "      <td>0</td>\n",
       "      <td>0</td>\n",
       "      <td>0</td>\n",
       "      <td>0</td>\n",
       "      <td>0</td>\n",
       "      <td>0</td>\n",
       "      <td>0</td>\n",
       "      <td>0</td>\n",
       "    </tr>\n",
       "    <tr>\n",
       "      <th>2</th>\n",
       "      <td>34</td>\n",
       "      <td>1.0</td>\n",
       "      <td>NaN</td>\n",
       "      <td>1.0</td>\n",
       "      <td>0.0</td>\n",
       "      <td>0.0</td>\n",
       "      <td>0.0</td>\n",
       "      <td>0.0</td>\n",
       "      <td>0.0</td>\n",
       "      <td>0.0</td>\n",
       "      <td>...</td>\n",
       "      <td>0.0</td>\n",
       "      <td>0</td>\n",
       "      <td>0</td>\n",
       "      <td>0</td>\n",
       "      <td>0</td>\n",
       "      <td>0</td>\n",
       "      <td>0</td>\n",
       "      <td>0</td>\n",
       "      <td>0</td>\n",
       "      <td>0</td>\n",
       "    </tr>\n",
       "    <tr>\n",
       "      <th>3</th>\n",
       "      <td>52</td>\n",
       "      <td>5.0</td>\n",
       "      <td>16.0</td>\n",
       "      <td>4.0</td>\n",
       "      <td>1.0</td>\n",
       "      <td>37.0</td>\n",
       "      <td>37.0</td>\n",
       "      <td>1.0</td>\n",
       "      <td>3.0</td>\n",
       "      <td>0.0</td>\n",
       "      <td>...</td>\n",
       "      <td>0.0</td>\n",
       "      <td>0</td>\n",
       "      <td>1</td>\n",
       "      <td>0</td>\n",
       "      <td>1</td>\n",
       "      <td>0</td>\n",
       "      <td>0</td>\n",
       "      <td>0</td>\n",
       "      <td>0</td>\n",
       "      <td>0</td>\n",
       "    </tr>\n",
       "    <tr>\n",
       "      <th>4</th>\n",
       "      <td>46</td>\n",
       "      <td>3.0</td>\n",
       "      <td>21.0</td>\n",
       "      <td>4.0</td>\n",
       "      <td>0.0</td>\n",
       "      <td>0.0</td>\n",
       "      <td>0.0</td>\n",
       "      <td>1.0</td>\n",
       "      <td>15.0</td>\n",
       "      <td>0.0</td>\n",
       "      <td>...</td>\n",
       "      <td>0.0</td>\n",
       "      <td>0</td>\n",
       "      <td>0</td>\n",
       "      <td>0</td>\n",
       "      <td>0</td>\n",
       "      <td>0</td>\n",
       "      <td>0</td>\n",
       "      <td>0</td>\n",
       "      <td>0</td>\n",
       "      <td>0</td>\n",
       "    </tr>\n",
       "  </tbody>\n",
       "</table>\n",
       "<p>5 rows × 34 columns</p>\n",
       "</div>"
      ],
      "text/plain": [
       "   Age  Number of sexual partners  First sexual intercourse  \\\n",
       "0   18                        4.0                      15.0   \n",
       "1   15                        1.0                      14.0   \n",
       "2   34                        1.0                       NaN   \n",
       "3   52                        5.0                      16.0   \n",
       "4   46                        3.0                      21.0   \n",
       "\n",
       "   Num of pregnancies  Smokes  Smokes (years)  Smokes (packs/year)  \\\n",
       "0                 1.0     0.0             0.0                  0.0   \n",
       "1                 1.0     0.0             0.0                  0.0   \n",
       "2                 1.0     0.0             0.0                  0.0   \n",
       "3                 4.0     1.0            37.0                 37.0   \n",
       "4                 4.0     0.0             0.0                  0.0   \n",
       "\n",
       "   Hormonal Contraceptives  Hormonal Contraceptives (years)  IUD  ...  \\\n",
       "0                      0.0                              0.0  0.0  ...   \n",
       "1                      0.0                              0.0  0.0  ...   \n",
       "2                      0.0                              0.0  0.0  ...   \n",
       "3                      1.0                              3.0  0.0  ...   \n",
       "4                      1.0                             15.0  0.0  ...   \n",
       "\n",
       "   STDs:HPV  STDs: Number of diagnosis  Dx:Cancer  Dx:CIN  Dx:HPV  Dx  \\\n",
       "0       0.0                          0          0       0       0   0   \n",
       "1       0.0                          0          0       0       0   0   \n",
       "2       0.0                          0          0       0       0   0   \n",
       "3       0.0                          0          1       0       1   0   \n",
       "4       0.0                          0          0       0       0   0   \n",
       "\n",
       "   Hinselmann  Schiller  Citology  Biopsy  \n",
       "0           0         0         0       0  \n",
       "1           0         0         0       0  \n",
       "2           0         0         0       0  \n",
       "3           0         0         0       0  \n",
       "4           0         0         0       0  \n",
       "\n",
       "[5 rows x 34 columns]"
      ]
     },
     "execution_count": 5,
     "metadata": {},
     "output_type": "execute_result"
    }
   ],
   "source": [
    "# drop STD columns as it contains too many missing values\n",
    "data_drop = data.drop(['STDs: Time since first diagnosis', 'STDs: Time since last diagnosis'], axis=1)\n",
    "data_drop.head()"
   ]
  },
  {
   "cell_type": "code",
   "execution_count": 6,
   "metadata": {
    "colab": {
     "base_uri": "https://localhost:8080/",
     "height": 102
    },
    "colab_type": "code",
    "id": "ixZEAey0LPuF",
    "outputId": "9b6144ff-c0b1-4561-f2b2-3b194452a014"
   },
   "outputs": [
    {
     "name": "stdout",
     "output_type": "stream",
     "text": [
      "Data shape:  (668, 34)\n",
      "Train_Data shape:  (467, 34)\n",
      "Test_Data shape:  (201, 34)\n",
      "X_train: (467, 30) | y_train: (467, 4)\n",
      "X_test: (201, 30) | y_test: (201, 4)\n"
     ]
    }
   ],
   "source": [
    "# drop extra data rows which contain missing observations\n",
    "data_drop = data_drop.dropna()\n",
    "\n",
    "print('Data shape: ', data_drop.shape)\n",
    "\n",
    "# train test split\n",
    "train_id = int(0.7*data_drop.shape[0])\n",
    "idx = data_drop.index.values\n",
    "np.random.seed(0)\n",
    "np.random.shuffle(idx)\n",
    "train = data_drop.loc[idx[:train_id],:]\n",
    "test = data_drop.loc[idx[train_id:],:]\n",
    "features_names = train.iloc[:,:-4].columns.tolist()\n",
    "print('Train_Data shape: ', train.shape)\n",
    "print('Test_Data shape: ', test.shape)\n",
    "train.to_csv('train.csv')\n",
    "test.to_csv('test.csv')\n",
    "\n",
    "X_train = train.iloc[:,:-4].values\n",
    "y_train = train.iloc[:,-4:].values\n",
    "X_test = test.iloc[:,:-4].values\n",
    "y_test = test.iloc[:,-4:].values\n",
    "print ('X_train:', X_train.shape, '| y_train:', y_train.shape)\n",
    "print ('X_test:', X_test.shape, '| y_test:', y_test.shape)"
   ]
  },
  {
   "cell_type": "code",
   "execution_count": 7,
   "metadata": {
    "colab": {},
    "colab_type": "code",
    "id": "aIMHbmQWLXfW"
   },
   "outputs": [
    {
     "data": {
      "text/plain": [
       "RandomForestClassifier()"
      ]
     },
     "execution_count": 7,
     "metadata": {},
     "output_type": "execute_result"
    }
   ],
   "source": [
    "col = 3\n",
    "rf = RandomForestClassifier(n_estimators  = 100)\n",
    "rf.fit(X_train, y_train[:,col])"
   ]
  },
  {
   "cell_type": "code",
   "execution_count": 8,
   "metadata": {
    "colab": {
     "base_uri": "https://localhost:8080/",
     "height": 320
    },
    "colab_type": "code",
    "id": "smfX9Z4tOnZQ",
    "outputId": "6a4d166e-d84d-4a1e-9fd5-a931a8a89b32"
   },
   "outputs": [
    {
     "name": "stderr",
     "output_type": "stream",
     "text": [
      "2021-10-27 07:32:42,544 - skater.core.explanations - WARNING - Progress bars slow down runs by 10-20%. For slightly \n",
      "faster runs, do progress_bar=False\n"
     ]
    },
    {
     "name": "stdout",
     "output_type": "stream",
     "text": [
      "[30/30] features ████████████████████ Time elapsed: 4 seconds"
     ]
    },
    {
     "data": {
      "image/png": "[encoded data removed]",
      "text/plain": [
       "<Figure size 432x288 with 1 Axes>"
      ]
     },
     "metadata": {
      "needs_background": "light"
     },
     "output_type": "display_data"
    }
   ],
   "source": [
    "from skater.core.explanations import Interpretation\n",
    "from skater.model import InMemoryModel\n",
    "\n",
    "interpreter = Interpretation(X_test, feature_names=features_names)\n",
    "model = InMemoryModel(rf.predict_proba, examples=X_train)\n",
    "plots = interpreter.feature_importance.plot_feature_importance(model, ascending=True)"
   ]
  },
  {
   "cell_type": "markdown",
   "metadata": {
    "colab_type": "text",
    "id": "f78C2f4GQ0Cv"
   },
   "source": [
    "\n",
    "#### Use partial dependence to understand the relationship between a variable and a model's predictions"
   ]
  },
  {
   "cell_type": "code",
   "execution_count": 9,
   "metadata": {
    "colab": {
     "base_uri": "https://localhost:8080/",
     "height": 684
    },
    "colab_type": "code",
    "id": "EENONYN2NEr9",
    "outputId": "3e68840a-0182-42f1-9b13-900623596d23"
   },
   "outputs": [
    {
     "name": "stderr",
     "output_type": "stream",
     "text": [
      "2021-10-27 07:32:47,813 - skater.core.explanations - WARNING - Progress bars slow down runs by 10-20%. For slightly \n",
      "faster runs, do progress_bar=False\n"
     ]
    },
    {
     "name": "stdout",
     "output_type": "stream",
     "text": [
      "[29/29] grid cells ████████████████████ Time elapsed: 3 seconds"
     ]
    },
    {
     "data": {
      "image/png": "[encoded data removed]",
      "text/plain": [
       "<Figure size 1152x720 with 1 Axes>"
      ]
     },
     "metadata": {
      "needs_background": "light"
     },
     "output_type": "display_data"
    }
   ],
   "source": [
    "plots = interpreter.partial_dependence.plot_partial_dependence(['Hormonal Contraceptives (years)'], model, n_jobs=1)"
   ]
  }
 ],
 "metadata": {
  "colab": {
   "collapsed_sections": [],
   "name": "feature_importance.ipynb",
   "provenance": [],
   "version": "0.3.2"
  },
  "kernelspec": {
   "display_name": "Python 3 (ipykernel)",
   "language": "python",
   "name": "python3"
  },
  "language_info": {
   "codemirror_mode": {
    "name": "ipython",
    "version": 3
   },
   "file_extension": ".py",
   "mimetype": "text/x-python",
   "name": "python",
   "nbconvert_exporter": "python",
   "pygments_lexer": "ipython3",
   "version": "3.9.5"
  }
 },
 "nbformat": 4,
 "nbformat_minor": 1
}
