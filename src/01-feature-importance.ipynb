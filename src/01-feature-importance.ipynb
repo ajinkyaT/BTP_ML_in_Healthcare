{
  "cells": [
    {
      "cell_type": "code",
      "execution_count": 1,
      "metadata": {
        "colab": {},
        "colab_type": "code",
        "id": "aMhfc1Y1KZxp"
      },
      "outputs": [],
      "source": [
        "from __future__ import division\n",
        "import numpy as np\n",
        "import pandas as pd\n",
        "import yaml\n",
        "from sklearn.ensemble import RandomForestClassifier\n",
        "\n",
        "%matplotlib inline"
      ]
    },
    {
      "cell_type": "code",
      "execution_count": 2,
      "metadata": {},
      "outputs": [],
      "source": [
        "config = yaml.load(\n",
        "    open(\"../config.yaml\"),\n",
        "    Loader=yaml.FullLoader\n",
        ")"
      ]
    },
    {
      "cell_type": "code",
      "execution_count": 3,
      "metadata": {},
      "outputs": [],
      "source": [
        "# Defaults\n",
        "seed = int(config['seed'])\n",
        "np.random.seed(seed)"
      ]
    },
    {
      "cell_type": "code",
      "execution_count": 4,
      "metadata": {
        "colab": {},
        "colab_type": "code",
        "id": "-f5kSO2xLBYw"
      },
      "outputs": [
        {
          "name": "stdout",
          "output_type": "stream",
          "text": [
            "  % Total    % Received % Xferd  Average Speed   Time    Time     Time  Current\n",
            "                                 Dload  Upload   Total   Spent    Left  Speed\n",
            "100   99k  100   99k    0     0  65743      0  0:00:01  0:00:01 --:--:-- 65717\n"
          ]
        }
      ],
      "source": [
        "!curl -o data/raw/risk_factors_cervical_cancer.csv https://archive.ics.uci.edu/ml/machine-learning-databases/00383/risk_factors_cervical_cancer.csv"
      ]
    },
    {
      "cell_type": "code",
      "execution_count": 5,
      "metadata": {
        "colab": {
          "base_uri": "https://localhost:8080/",
          "height": 338
        },
        "colab_type": "code",
        "id": "JMiLKVfGLHym",
        "outputId": "7929adf9-8b28-46ef-8fb3-937a8f9bb99a"
      },
      "outputs": [
        {
          "name": "stdout",
          "output_type": "stream",
          "text": [
            "Shape:  (858, 36)\n"
          ]
        },
        {
          "data": {
            "text/html": [
              "<div>\n",
              "<style scoped>\n",
              "    .dataframe tbody tr th:only-of-type {\n",
              "        vertical-align: middle;\n",
              "    }\n",
              "\n",
              "    .dataframe tbody tr th {\n",
              "        vertical-align: top;\n",
              "    }\n",
              "\n",
              "    .dataframe thead th {\n",
              "        text-align: right;\n",
              "    }\n",
              "</style>\n",
              "<table border=\"1\" class=\"dataframe\">\n",
              "  <thead>\n",
              "    <tr style=\"text-align: right;\">\n",
              "      <th></th>\n",
              "      <th>Age</th>\n",
              "      <th>Number of sexual partners</th>\n",
              "      <th>First sexual intercourse</th>\n",
              "      <th>Num of pregnancies</th>\n",
              "      <th>Smokes</th>\n",
              "      <th>Smokes (years)</th>\n",
              "      <th>Smokes (packs/year)</th>\n",
              "      <th>Hormonal Contraceptives</th>\n",
              "      <th>Hormonal Contraceptives (years)</th>\n",
              "      <th>IUD</th>\n",
              "      <th>...</th>\n",
              "      <th>STDs: Time since first diagnosis</th>\n",
              "      <th>STDs: Time since last diagnosis</th>\n",
              "      <th>Dx:Cancer</th>\n",
              "      <th>Dx:CIN</th>\n",
              "      <th>Dx:HPV</th>\n",
              "      <th>Dx</th>\n",
              "      <th>Hinselmann</th>\n",
              "      <th>Schiller</th>\n",
              "      <th>Citology</th>\n",
              "      <th>Biopsy</th>\n",
              "    </tr>\n",
              "  </thead>\n",
              "  <tbody>\n",
              "    <tr>\n",
              "      <th>0</th>\n",
              "      <td>18</td>\n",
              "      <td>4.0</td>\n",
              "      <td>15.0</td>\n",
              "      <td>1.0</td>\n",
              "      <td>0.0</td>\n",
              "      <td>0.0</td>\n",
              "      <td>0.0</td>\n",
              "      <td>0.0</td>\n",
              "      <td>0.0</td>\n",
              "      <td>0.0</td>\n",
              "      <td>...</td>\n",
              "      <td>NaN</td>\n",
              "      <td>NaN</td>\n",
              "      <td>0</td>\n",
              "      <td>0</td>\n",
              "      <td>0</td>\n",
              "      <td>0</td>\n",
              "      <td>0</td>\n",
              "      <td>0</td>\n",
              "      <td>0</td>\n",
              "      <td>0</td>\n",
              "    </tr>\n",
              "    <tr>\n",
              "      <th>1</th>\n",
              "      <td>15</td>\n",
              "      <td>1.0</td>\n",
              "      <td>14.0</td>\n",
              "      <td>1.0</td>\n",
              "      <td>0.0</td>\n",
              "      <td>0.0</td>\n",
              "      <td>0.0</td>\n",
              "      <td>0.0</td>\n",
              "      <td>0.0</td>\n",
              "      <td>0.0</td>\n",
              "      <td>...</td>\n",
              "      <td>NaN</td>\n",
              "      <td>NaN</td>\n",
              "      <td>0</td>\n",
              "      <td>0</td>\n",
              "      <td>0</td>\n",
              "      <td>0</td>\n",
              "      <td>0</td>\n",
              "      <td>0</td>\n",
              "      <td>0</td>\n",
              "      <td>0</td>\n",
              "    </tr>\n",
              "    <tr>\n",
              "      <th>2</th>\n",
              "      <td>34</td>\n",
              "      <td>1.0</td>\n",
              "      <td>NaN</td>\n",
              "      <td>1.0</td>\n",
              "      <td>0.0</td>\n",
              "      <td>0.0</td>\n",
              "      <td>0.0</td>\n",
              "      <td>0.0</td>\n",
              "      <td>0.0</td>\n",
              "      <td>0.0</td>\n",
              "      <td>...</td>\n",
              "      <td>NaN</td>\n",
              "      <td>NaN</td>\n",
              "      <td>0</td>\n",
              "      <td>0</td>\n",
              "      <td>0</td>\n",
              "      <td>0</td>\n",
              "      <td>0</td>\n",
              "      <td>0</td>\n",
              "      <td>0</td>\n",
              "      <td>0</td>\n",
              "    </tr>\n",
              "    <tr>\n",
              "      <th>3</th>\n",
              "      <td>52</td>\n",
              "      <td>5.0</td>\n",
              "      <td>16.0</td>\n",
              "      <td>4.0</td>\n",
              "      <td>1.0</td>\n",
              "      <td>37.0</td>\n",
              "      <td>37.0</td>\n",
              "      <td>1.0</td>\n",
              "      <td>3.0</td>\n",
              "      <td>0.0</td>\n",
              "      <td>...</td>\n",
              "      <td>NaN</td>\n",
              "      <td>NaN</td>\n",
              "      <td>1</td>\n",
              "      <td>0</td>\n",
              "      <td>1</td>\n",
              "      <td>0</td>\n",
              "      <td>0</td>\n",
              "      <td>0</td>\n",
              "      <td>0</td>\n",
              "      <td>0</td>\n",
              "    </tr>\n",
              "    <tr>\n",
              "      <th>4</th>\n",
              "      <td>46</td>\n",
              "      <td>3.0</td>\n",
              "      <td>21.0</td>\n",
              "      <td>4.0</td>\n",
              "      <td>0.0</td>\n",
              "      <td>0.0</td>\n",
              "      <td>0.0</td>\n",
              "      <td>1.0</td>\n",
              "      <td>15.0</td>\n",
              "      <td>0.0</td>\n",
              "      <td>...</td>\n",
              "      <td>NaN</td>\n",
              "      <td>NaN</td>\n",
              "      <td>0</td>\n",
              "      <td>0</td>\n",
              "      <td>0</td>\n",
              "      <td>0</td>\n",
              "      <td>0</td>\n",
              "      <td>0</td>\n",
              "      <td>0</td>\n",
              "      <td>0</td>\n",
              "    </tr>\n",
              "  </tbody>\n",
              "</table>\n",
              "<p>5 rows × 36 columns</p>\n",
              "</div>"
            ],
            "text/plain": [
              "   Age  Number of sexual partners  First sexual intercourse  \\\n",
              "0   18                        4.0                      15.0   \n",
              "1   15                        1.0                      14.0   \n",
              "2   34                        1.0                       NaN   \n",
              "3   52                        5.0                      16.0   \n",
              "4   46                        3.0                      21.0   \n",
              "\n",
              "   Num of pregnancies  Smokes  Smokes (years)  Smokes (packs/year)  \\\n",
              "0                 1.0     0.0             0.0                  0.0   \n",
              "1                 1.0     0.0             0.0                  0.0   \n",
              "2                 1.0     0.0             0.0                  0.0   \n",
              "3                 4.0     1.0            37.0                 37.0   \n",
              "4                 4.0     0.0             0.0                  0.0   \n",
              "\n",
              "   Hormonal Contraceptives  Hormonal Contraceptives (years)  IUD  ...  \\\n",
              "0                      0.0                              0.0  0.0  ...   \n",
              "1                      0.0                              0.0  0.0  ...   \n",
              "2                      0.0                              0.0  0.0  ...   \n",
              "3                      1.0                              3.0  0.0  ...   \n",
              "4                      1.0                             15.0  0.0  ...   \n",
              "\n",
              "   STDs: Time since first diagnosis  STDs: Time since last diagnosis  \\\n",
              "0                               NaN                              NaN   \n",
              "1                               NaN                              NaN   \n",
              "2                               NaN                              NaN   \n",
              "3                               NaN                              NaN   \n",
              "4                               NaN                              NaN   \n",
              "\n",
              "   Dx:Cancer  Dx:CIN  Dx:HPV  Dx  Hinselmann  Schiller  Citology  Biopsy  \n",
              "0          0       0       0   0           0         0         0       0  \n",
              "1          0       0       0   0           0         0         0       0  \n",
              "2          0       0       0   0           0         0         0       0  \n",
              "3          1       0       1   0           0         0         0       0  \n",
              "4          0       0       0   0           0         0         0       0  \n",
              "\n",
              "[5 rows x 36 columns]"
            ]
          },
          "execution_count": 5,
          "metadata": {},
          "output_type": "execute_result"
        }
      ],
      "source": [
        "# read in data\n",
        "data = pd.read_csv('./data/raw/risk_factors_cervical_cancer.csv', na_values='?')\n",
        "print('Shape: ', data.shape)\n",
        "data.head()"
      ]
    },
    {
      "cell_type": "code",
      "execution_count": 6,
      "metadata": {
        "colab": {
          "base_uri": "https://localhost:8080/",
          "height": 304
        },
        "colab_type": "code",
        "id": "14p2lLhYLPRw",
        "outputId": "4001275f-c5e4-4c24-fec8-82d61e654130"
      },
      "outputs": [
        {
          "data": {
            "text/html": [
              "<div>\n",
              "<style scoped>\n",
              "    .dataframe tbody tr th:only-of-type {\n",
              "        vertical-align: middle;\n",
              "    }\n",
              "\n",
              "    .dataframe tbody tr th {\n",
              "        vertical-align: top;\n",
              "    }\n",
              "\n",
              "    .dataframe thead th {\n",
              "        text-align: right;\n",
              "    }\n",
              "</style>\n",
              "<table border=\"1\" class=\"dataframe\">\n",
              "  <thead>\n",
              "    <tr style=\"text-align: right;\">\n",
              "      <th></th>\n",
              "      <th>Age</th>\n",
              "      <th>Number of sexual partners</th>\n",
              "      <th>First sexual intercourse</th>\n",
              "      <th>Num of pregnancies</th>\n",
              "      <th>Smokes</th>\n",
              "      <th>Smokes (years)</th>\n",
              "      <th>Smokes (packs/year)</th>\n",
              "      <th>Hormonal Contraceptives</th>\n",
              "      <th>Hormonal Contraceptives (years)</th>\n",
              "      <th>IUD</th>\n",
              "      <th>...</th>\n",
              "      <th>STDs:HPV</th>\n",
              "      <th>STDs: Number of diagnosis</th>\n",
              "      <th>Dx:Cancer</th>\n",
              "      <th>Dx:CIN</th>\n",
              "      <th>Dx:HPV</th>\n",
              "      <th>Dx</th>\n",
              "      <th>Hinselmann</th>\n",
              "      <th>Schiller</th>\n",
              "      <th>Citology</th>\n",
              "      <th>Biopsy</th>\n",
              "    </tr>\n",
              "  </thead>\n",
              "  <tbody>\n",
              "    <tr>\n",
              "      <th>0</th>\n",
              "      <td>18</td>\n",
              "      <td>4.0</td>\n",
              "      <td>15.0</td>\n",
              "      <td>1.0</td>\n",
              "      <td>0.0</td>\n",
              "      <td>0.0</td>\n",
              "      <td>0.0</td>\n",
              "      <td>0.0</td>\n",
              "      <td>0.0</td>\n",
              "      <td>0.0</td>\n",
              "      <td>...</td>\n",
              "      <td>0.0</td>\n",
              "      <td>0</td>\n",
              "      <td>0</td>\n",
              "      <td>0</td>\n",
              "      <td>0</td>\n",
              "      <td>0</td>\n",
              "      <td>0</td>\n",
              "      <td>0</td>\n",
              "      <td>0</td>\n",
              "      <td>0</td>\n",
              "    </tr>\n",
              "    <tr>\n",
              "      <th>1</th>\n",
              "      <td>15</td>\n",
              "      <td>1.0</td>\n",
              "      <td>14.0</td>\n",
              "      <td>1.0</td>\n",
              "      <td>0.0</td>\n",
              "      <td>0.0</td>\n",
              "      <td>0.0</td>\n",
              "      <td>0.0</td>\n",
              "      <td>0.0</td>\n",
              "      <td>0.0</td>\n",
              "      <td>...</td>\n",
              "      <td>0.0</td>\n",
              "      <td>0</td>\n",
              "      <td>0</td>\n",
              "      <td>0</td>\n",
              "      <td>0</td>\n",
              "      <td>0</td>\n",
              "      <td>0</td>\n",
              "      <td>0</td>\n",
              "      <td>0</td>\n",
              "      <td>0</td>\n",
              "    </tr>\n",
              "    <tr>\n",
              "      <th>2</th>\n",
              "      <td>34</td>\n",
              "      <td>1.0</td>\n",
              "      <td>NaN</td>\n",
              "      <td>1.0</td>\n",
              "      <td>0.0</td>\n",
              "      <td>0.0</td>\n",
              "      <td>0.0</td>\n",
              "      <td>0.0</td>\n",
              "      <td>0.0</td>\n",
              "      <td>0.0</td>\n",
              "      <td>...</td>\n",
              "      <td>0.0</td>\n",
              "      <td>0</td>\n",
              "      <td>0</td>\n",
              "      <td>0</td>\n",
              "      <td>0</td>\n",
              "      <td>0</td>\n",
              "      <td>0</td>\n",
              "      <td>0</td>\n",
              "      <td>0</td>\n",
              "      <td>0</td>\n",
              "    </tr>\n",
              "    <tr>\n",
              "      <th>3</th>\n",
              "      <td>52</td>\n",
              "      <td>5.0</td>\n",
              "      <td>16.0</td>\n",
              "      <td>4.0</td>\n",
              "      <td>1.0</td>\n",
              "      <td>37.0</td>\n",
              "      <td>37.0</td>\n",
              "      <td>1.0</td>\n",
              "      <td>3.0</td>\n",
              "      <td>0.0</td>\n",
              "      <td>...</td>\n",
              "      <td>0.0</td>\n",
              "      <td>0</td>\n",
              "      <td>1</td>\n",
              "      <td>0</td>\n",
              "      <td>1</td>\n",
              "      <td>0</td>\n",
              "      <td>0</td>\n",
              "      <td>0</td>\n",
              "      <td>0</td>\n",
              "      <td>0</td>\n",
              "    </tr>\n",
              "    <tr>\n",
              "      <th>4</th>\n",
              "      <td>46</td>\n",
              "      <td>3.0</td>\n",
              "      <td>21.0</td>\n",
              "      <td>4.0</td>\n",
              "      <td>0.0</td>\n",
              "      <td>0.0</td>\n",
              "      <td>0.0</td>\n",
              "      <td>1.0</td>\n",
              "      <td>15.0</td>\n",
              "      <td>0.0</td>\n",
              "      <td>...</td>\n",
              "      <td>0.0</td>\n",
              "      <td>0</td>\n",
              "      <td>0</td>\n",
              "      <td>0</td>\n",
              "      <td>0</td>\n",
              "      <td>0</td>\n",
              "      <td>0</td>\n",
              "      <td>0</td>\n",
              "      <td>0</td>\n",
              "      <td>0</td>\n",
              "    </tr>\n",
              "  </tbody>\n",
              "</table>\n",
              "<p>5 rows × 34 columns</p>\n",
              "</div>"
            ],
            "text/plain": [
              "   Age  Number of sexual partners  First sexual intercourse  \\\n",
              "0   18                        4.0                      15.0   \n",
              "1   15                        1.0                      14.0   \n",
              "2   34                        1.0                       NaN   \n",
              "3   52                        5.0                      16.0   \n",
              "4   46                        3.0                      21.0   \n",
              "\n",
              "   Num of pregnancies  Smokes  Smokes (years)  Smokes (packs/year)  \\\n",
              "0                 1.0     0.0             0.0                  0.0   \n",
              "1                 1.0     0.0             0.0                  0.0   \n",
              "2                 1.0     0.0             0.0                  0.0   \n",
              "3                 4.0     1.0            37.0                 37.0   \n",
              "4                 4.0     0.0             0.0                  0.0   \n",
              "\n",
              "   Hormonal Contraceptives  Hormonal Contraceptives (years)  IUD  ...  \\\n",
              "0                      0.0                              0.0  0.0  ...   \n",
              "1                      0.0                              0.0  0.0  ...   \n",
              "2                      0.0                              0.0  0.0  ...   \n",
              "3                      1.0                              3.0  0.0  ...   \n",
              "4                      1.0                             15.0  0.0  ...   \n",
              "\n",
              "   STDs:HPV  STDs: Number of diagnosis  Dx:Cancer  Dx:CIN  Dx:HPV  Dx  \\\n",
              "0       0.0                          0          0       0       0   0   \n",
              "1       0.0                          0          0       0       0   0   \n",
              "2       0.0                          0          0       0       0   0   \n",
              "3       0.0                          0          1       0       1   0   \n",
              "4       0.0                          0          0       0       0   0   \n",
              "\n",
              "   Hinselmann  Schiller  Citology  Biopsy  \n",
              "0           0         0         0       0  \n",
              "1           0         0         0       0  \n",
              "2           0         0         0       0  \n",
              "3           0         0         0       0  \n",
              "4           0         0         0       0  \n",
              "\n",
              "[5 rows x 34 columns]"
            ]
          },
          "execution_count": 6,
          "metadata": {},
          "output_type": "execute_result"
        }
      ],
      "source": [
        "# drop STD columns as it contains too many missing values\n",
        "data_drop = data.drop(['STDs: Time since first diagnosis', 'STDs: Time since last diagnosis'], axis=1)\n",
        "data_drop.head()"
      ]
    },
    {
      "cell_type": "code",
      "execution_count": 7,
      "metadata": {
        "colab": {
          "base_uri": "https://localhost:8080/",
          "height": 102
        },
        "colab_type": "code",
        "id": "ixZEAey0LPuF",
        "outputId": "9b6144ff-c0b1-4561-f2b2-3b194452a014"
      },
      "outputs": [
        {
          "name": "stdout",
          "output_type": "stream",
          "text": [
            "Data shape:  (668, 34)\n",
            "Train_Data shape:  (467, 34)\n",
            "Test_Data shape:  (201, 34)\n",
            "X_train: (467, 30) | y_train: (467, 4)\n",
            "X_test: (201, 30) | y_test: (201, 4)\n"
          ]
        }
      ],
      "source": [
        "# drop extra data rows which contain missing observations\n",
        "data_drop = data_drop.dropna()\n",
        "\n",
        "print('Data shape: ', data_drop.shape)\n",
        "\n",
        "# train test split\n",
        "train_ratio = float(config['train_ratio'])\n",
        "train_id = int(train_ratio * data_drop.shape[0])\n",
        "idx = data_drop.index.values\n",
        "np.random.shuffle(idx)\n",
        "\n",
        "train = data_drop.loc[idx[:train_id],:]\n",
        "test = data_drop.loc[idx[train_id:],:]\n",
        "features_names = train.iloc[:,:-4].columns.tolist()\n",
        "\n",
        "print('Train_Data shape: ', train.shape)\n",
        "print('Test_Data shape: ', test.shape)\n",
        "\n",
        "X_train = train.iloc[:,:-4].values\n",
        "y_train = train.iloc[:,-4:].values\n",
        "X_test = test.iloc[:,:-4].values\n",
        "y_test = test.iloc[:,-4:].values\n",
        "\n",
        "print ('X_train:', X_train.shape, '| y_train:', y_train.shape)\n",
        "print ('X_test:', X_test.shape, '| y_test:', y_test.shape)"
      ]
    },
    {
      "cell_type": "code",
      "execution_count": 8,
      "metadata": {},
      "outputs": [],
      "source": [
        "# save train and test datasets\n",
        "train.to_csv('./data/processed/train.csv')\n",
        "test.to_csv('./data/processed/test.csv')"
      ]
    },
    {
      "cell_type": "code",
      "execution_count": 9,
      "metadata": {
        "colab": {},
        "colab_type": "code",
        "id": "aIMHbmQWLXfW"
      },
      "outputs": [
        {
          "data": {
            "text/plain": [
              "RandomForestClassifier()"
            ]
          },
          "execution_count": 9,
          "metadata": {},
          "output_type": "execute_result"
        }
      ],
      "source": [
        "col = 3\n",
        "rf = RandomForestClassifier(n_estimators=100)\n",
        "rf.fit(X_train, y_train[:,col])"
      ]
    },
    {
      "cell_type": "code",
      "execution_count": 10,
      "metadata": {
        "colab": {
          "base_uri": "https://localhost:8080/",
          "height": 320
        },
        "colab_type": "code",
        "id": "smfX9Z4tOnZQ",
        "outputId": "6a4d166e-d84d-4a1e-9fd5-a931a8a89b32"
      },
      "outputs": [
        {
          "name": "stderr",
          "output_type": "stream",
          "text": [
            "2021-12-25 14:52:17,976 - skater.core.explanations - WARNING - Progress bars slow down runs by 10-20%. For slightly \n",
            "faster runs, do progress_bar=False\n"
          ]
        },
        {
          "name": "stdout",
          "output_type": "stream",
          "text": [
            "[30/30] features ████████████████████ Time elapsed: 1 seconds"
          ]
        },
        {
          "data": {
            "image/png": "[encoded data removed]",
            "text/plain": [
              "<Figure size 432x288 with 1 Axes>"
            ]
          },
          "metadata": {
            "needs_background": "light"
          },
          "output_type": "display_data"
        }
      ],
      "source": [
        "from skater.core.explanations import Interpretation\n",
        "from skater.model import InMemoryModel\n",
        "\n",
        "interpreter = Interpretation(X_test, feature_names=features_names)\n",
        "model = InMemoryModel(rf.predict_proba, examples=X_train)\n",
        "plots = interpreter.feature_importance.plot_feature_importance(model, ascending=True)"
      ]
    },
    {
      "cell_type": "markdown",
      "metadata": {
        "colab_type": "text",
        "id": "f78C2f4GQ0Cv"
      },
      "source": [
        "                            \n",
        "#### Use partial dependence to understand the relationship between a variable and a model's predictions"
      ]
    },
    {
      "cell_type": "code",
      "execution_count": 11,
      "metadata": {
        "colab": {
          "base_uri": "https://localhost:8080/",
          "height": 684
        },
        "colab_type": "code",
        "id": "EENONYN2NEr9",
        "outputId": "3e68840a-0182-42f1-9b13-900623596d23"
      },
      "outputs": [
        {
          "name": "stderr",
          "output_type": "stream",
          "text": [
            "2021-12-25 14:52:19,640 - skater.core.explanations - WARNING - Progress bars slow down runs by 10-20%. For slightly \n",
            "faster runs, do progress_bar=False\n"
          ]
        },
        {
          "name": "stdout",
          "output_type": "stream",
          "text": [
            "[29/29] grid cells ████████████████████ Time elapsed: 1 seconds"
          ]
        },
        {
          "data": {
            "image/png": "[encoded data removed]",
            "text/plain": [
              "<Figure size 1152x720 with 1 Axes>"
            ]
          },
          "metadata": {
            "needs_background": "light"
          },
          "output_type": "display_data"
        }
      ],
      "source": [
        "plots = interpreter.partial_dependence.plot_partial_dependence(['Hormonal Contraceptives (years)'], model, n_jobs=1)"
      ]
    }
  ],
  "metadata": {
    "colab": {
      "collapsed_sections": [],
      "name": "feature_importance.ipynb",
      "provenance": [],
      "version": "0.3.2"
    },
    "kernelspec": {
      "display_name": "Python 3",
      "name": "python3"
    },
    "language_info": {
      "codemirror_mode": {
        "name": "ipython",
        "version": 3
      },
      "file_extension": ".py",
      "mimetype": "text/x-python",
      "name": "python",
      "nbconvert_exporter": "python",
      "pygments_lexer": "ipython3",
      "version": "3.9.7"
    }
  },
  "nbformat": 4,
  "nbformat_minor": 0
}
